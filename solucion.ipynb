{
 "cells": [
  {
   "cell_type": "code",
   "execution_count": 20,
   "metadata": {},
   "outputs": [],
   "source": [
    "import pandas as pd\n",
    "\n",
    "data_frame = pd.read_csv('hospitales2.csv', encoding = 'utf-8')\n",
    "coordenadas = [coordenadas.split() for coordenadas in data_frame['WKT']]\n",
    "longitude = [float(elemento[1].strip('(')) for elemento in coordenadas]\n",
    "latitude = [float(elemento[2].strip(')')) for elemento in coordenadas]\n",
    "datos = dict(latitude=latitude, longitude =longitude, name=data_frame['DOM_NORMA'], label=data_frame['NOM_MAP'])\n",
    "pd.DataFrame(datos).to_csv('hospitales_salida.csv', index=False)\n",
    "import csv\n",
    "tabla = csv.reader( open('hospitales2.csv', encoding = 'utf-8'))\n",
    "with open('salidaa.csv', 'w', encoding='utf-8', newline='') as salida:\n",
    "    salida_writer = csv.writer(salida)\n",
    "    next(tabla)\n",
    "    salida_writer.writerow(['latitude','longitude','name','label'])\n",
    "    for linea in tabla:\n",
    "        coordenadas = linea[0][7:-1].split()\n",
    "        salida_writer.writerow([coordenadas[1], coordenadas[0], linea[3], linea[8]])\n"
   ]
  }
 ],
 "metadata": {
  "kernelspec": {
   "display_name": "Python 3",
   "language": "python",
   "name": "python3"
  },
  "language_info": {
   "codemirror_mode": {
    "name": "ipython",
    "version": 3
   },
   "file_extension": ".py",
   "mimetype": "text/x-python",
   "name": "python",
   "nbconvert_exporter": "python",
   "pygments_lexer": "ipython3",
   "version": "3.12.0"
  }
 },
 "nbformat": 4,
 "nbformat_minor": 2
}
